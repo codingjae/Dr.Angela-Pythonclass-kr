{
 "cells": [
  {
   "cell_type": "code",
   "execution_count": 5,
   "id": "be6fd707",
   "metadata": {},
   "outputs": [
    {
     "name": "stdout",
     "output_type": "stream",
     "text": [
      "What is your name?jaewon\n",
      "Letter of His/Her name is 6\n"
     ]
    }
   ],
   "source": [
    "name = len(input(\"What is your name?\"))\n",
    "str_name = str(name)\n",
    "print(\"Letter of His/Her name is \" + str_name)"
   ]
  },
  {
   "cell_type": "code",
   "execution_count": 12,
   "id": "ada4e65f",
   "metadata": {},
   "outputs": [
    {
     "name": "stdout",
     "output_type": "stream",
     "text": [
      "Type a two digit number: 13\n",
      "4\n"
     ]
    }
   ],
   "source": [
    "random_num = input('Type a two digit number: ')\n",
    "str_random_num = str(random_num)\n",
    "first = str_random_num[0]\n",
    "second = str_random_num[1]\n",
    "thefirst = int(first)\n",
    "thesecond = int(second)\n",
    "print(thefirst + thesecond)"
   ]
  },
  {
   "cell_type": "code",
   "execution_count": 13,
   "id": "86038355",
   "metadata": {},
   "outputs": [
    {
     "name": "stdout",
     "output_type": "stream",
     "text": [
      "3.0\n"
     ]
    }
   ],
   "source": [
    "print(3*(3+3)/3-3)"
   ]
  },
  {
   "cell_type": "markdown",
   "id": "5f1b810c",
   "metadata": {},
   "source": [
    "# BMI 계산기 제작\n"
   ]
  },
  {
   "cell_type": "code",
   "execution_count": 23,
   "id": "0b626d6b",
   "metadata": {},
   "outputs": [
    {
     "name": "stdout",
     "output_type": "stream",
     "text": [
      "weight: 80\n",
      "height: 1.75\n",
      "BMI:  26.122448979591837\n"
     ]
    }
   ],
   "source": [
    "weight = input('weight: ')\n",
    "height = input('height: ')\n",
    "wweight = float(weight)\n",
    "hheight = float(height)\n",
    "\n",
    "BMI = wweight / hheight ** 2\n",
    "print(\"BMI: \", BMI)"
   ]
  },
  {
   "cell_type": "markdown",
   "id": "6adfbbcf",
   "metadata": {},
   "source": [
    "# 삶을 주(week)로 나타내기 "
   ]
  },
  {
   "cell_type": "code",
   "execution_count": 31,
   "id": "2bddee81",
   "metadata": {},
   "outputs": [
    {
     "name": "stdout",
     "output_type": "stream",
     "text": [
      "What is your current age? 24\n",
      "You left 66 years, 792 months, 3168 weeks, 24090 days.\n"
     ]
    }
   ],
   "source": [
    "age = input(\"What is your current age? \")\n",
    "left_age = 90 - int(age)\n",
    "left_month = left_age * 12\n",
    "left_week = left_month * 4\n",
    "left_days = left_age * 365\n",
    "print(f\"You left {left_age} years, {left_month} months, {left_week} weeks, {left_days} days.\")"
   ]
  },
  {
   "cell_type": "markdown",
   "id": "5860d3e1",
   "metadata": {},
   "source": [
    "# Tip 계산기 "
   ]
  },
  {
   "cell_type": "code",
   "execution_count": 38,
   "id": "57693d08",
   "metadata": {},
   "outputs": [
    {
     "name": "stdout",
     "output_type": "stream",
     "text": [
      "Welcome to the tip calculator\n",
      "What was the total bill?  $124.56\n",
      "What percentage tip would you like to give? 10, 12, or 15?  12\n",
      "How many people to split the bill?  7\n",
      "Each person should pay:  $ 19.93\n"
     ]
    }
   ],
   "source": [
    "print(\"Welcome to the tip calculator\")\n",
    "bill = input(\"What was the total bill?  $\")\n",
    "tip = input(\"What percentage tip would you like to give? 10, 12, or 15?  \")\n",
    "people = input(\"How many people to split the bill?  \")\n",
    "bill_tip = float(bill) * (1 + float(tip) * 0.01)\n",
    "# bill_tip = round(bill_tip, 2)\n",
    "each_person = round(bill_tip / float(people), 2)\n",
    "print(\"Each person should pay:  $\", each_person)"
   ]
  }
 ],
 "metadata": {
  "kernelspec": {
   "display_name": "Python 3 (ipykernel)",
   "language": "python",
   "name": "python3"
  },
  "language_info": {
   "codemirror_mode": {
    "name": "ipython",
    "version": 3
   },
   "file_extension": ".py",
   "mimetype": "text/x-python",
   "name": "python",
   "nbconvert_exporter": "python",
   "pygments_lexer": "ipython3",
   "version": "3.9.7"
  }
 },
 "nbformat": 4,
 "nbformat_minor": 5
}
