{
 "cells": [
  {
   "cell_type": "code",
   "execution_count": 20,
   "id": "513f3a13",
   "metadata": {},
   "outputs": [
    {
     "name": "stdout",
     "output_type": "stream",
     "text": [
      "What's name of the city you grew up in?bristol\n",
      "bristol\n",
      "What's your pet's name?rabbit\n",
      "rabbit\n",
      "Your band name could be bristol rabbit\n"
     ]
    }
   ],
   "source": [
    "city = input(\"What's name of the city you grew up in?\")\n",
    "print(city)\n",
    "name = input(\"What's your pet's name?\")\n",
    "print(name)\n",
    "print(\"Your band name could be \" + city + \" \" + name)"
   ]
  }
 ],
 "metadata": {
  "kernelspec": {
   "display_name": "Python 3 (ipykernel)",
   "language": "python",
   "name": "python3"
  },
  "language_info": {
   "codemirror_mode": {
    "name": "ipython",
    "version": 3
   },
   "file_extension": ".py",
   "mimetype": "text/x-python",
   "name": "python",
   "nbconvert_exporter": "python",
   "pygments_lexer": "ipython3",
   "version": "3.9.7"
  }
 },
 "nbformat": 4,
 "nbformat_minor": 5
}
